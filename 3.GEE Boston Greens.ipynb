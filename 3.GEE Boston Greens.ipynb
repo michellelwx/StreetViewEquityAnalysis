{
 "cells": [
  {
   "cell_type": "code",
   "execution_count": 16,
   "metadata": {},
   "outputs": [],
   "source": [
    "import ee\n",
    "ee.Initialize()\n",
    "import geemap\n",
    "import requests\n",
    "import json\n",
    "import geopandas as gpd\n",
    "import numpy as np\n",
    "from matplotlib import pyplot as plt"
   ]
  },
  {
   "cell_type": "code",
   "execution_count": 17,
   "metadata": {},
   "outputs": [
    {
     "name": "stdout",
     "output_type": "stream",
     "text": [
      "[-71.19083563  42.22788727 -70.92346937  42.39693964]\n"
     ]
    }
   ],
   "source": [
    "shp=r'D:\\Berkeley\\CE263N\\Project idea\\4weixin\\Boston\\City_of_Boston_Boundary-shp\\City_of_Boston_Boundary.shp'\n",
    "shp=gpd.read_file(shp).to_crs('EPSG:4326')\n",
    "print(shp.total_bounds.flatten())\n"
   ]
  },
  {
   "cell_type": "code",
   "execution_count": 18,
   "metadata": {},
   "outputs": [],
   "source": [
    "Boston=ee.Geometry.BBox(-71.19083563,  42.22788727, -70.92346937,  42.39693964)"
   ]
  },
  {
   "cell_type": "code",
   "execution_count": 19,
   "metadata": {},
   "outputs": [
    {
     "data": {
      "application/vnd.jupyter.widget-view+json": {
       "model_id": "1eb38acea8a24de58834022f389fb29d",
       "version_major": 2,
       "version_minor": 0
      },
      "text/plain": [
       "Map(center=[42.3601, -71.0589], controls=(WidgetControl(options=['position'], widget=HBox(children=(ToggleButt…"
      ]
     },
     "metadata": {},
     "output_type": "display_data"
    }
   ],
   "source": [
    "Map=geemap.Map()\n",
    "Map.setCenter(-71.0589, 42.3601,zoom=15)\n",
    "Map.add_basemap(\"HYBRID\")\n",
    "Map"
   ]
  },
  {
   "cell_type": "markdown",
   "metadata": {},
   "source": [
    "# Imagery Datasets"
   ]
  },
  {
   "cell_type": "markdown",
   "metadata": {},
   "source": [
    "## Sentinel 2"
   ]
  },
  {
   "cell_type": "code",
   "execution_count": 20,
   "metadata": {},
   "outputs": [],
   "source": [
    "def maskS2clouds(images):\n",
    "    '''\n",
    "    function to mask clouds using the Seninel-2 QA band\n",
    "    input: Sentinel-2 image\n",
    "    output: cloud masked Sentinel-2 image\n",
    "    '''\n",
    "    \n",
    "    qa = images.select('QA60')\n",
    "\n",
    "    # bits 10 and 11 are clouds and cirrus\n",
    "    cloudBitMask = int(2**10)\n",
    "    cirrusBitMask = int(2**11)\n",
    "\n",
    "    # both flags set to zero indicates clear conditions.\n",
    "    clear = qa.bitwiseAnd(cloudBitMask).eq(0).And(\\\n",
    "           qa.bitwiseAnd(cirrusBitMask).eq(0))\n",
    "    \n",
    "    # clouds is not clear\n",
    "    cloud = clear.Not().rename(['ESA_clouds'])\n",
    "\n",
    "    # return the masked and scaled data.\n",
    "    return images.addBands(cloud)"
   ]
  },
  {
   "cell_type": "code",
   "execution_count": 21,
   "metadata": {},
   "outputs": [],
   "source": [
    "S2 = ee.ImageCollection('COPERNICUS/S2') \\\n",
    "    .filterBounds(Boston) \\\n",
    "    .filterDate('2018-05-01', '2018-06-30') \\\n",
    "    .sort('CLOUDY_PIXEL_PERCENTAGE') \\\n",
    "    .min() \\\n",
    "    .select(['B2', 'B3', 'B4', 'B8', 'B9','B11','B12']) \\\n",
    "    .divide(10000)"
   ]
  },
  {
   "cell_type": "code",
   "execution_count": 22,
   "metadata": {},
   "outputs": [
    {
     "data": {
      "text/plain": [
       "<bound method Image.getInfo of <ee.image.Image object at 0x0000020827798448>>"
      ]
     },
     "execution_count": 22,
     "metadata": {},
     "output_type": "execute_result"
    }
   ],
   "source": [
    "S2.getInfo"
   ]
  },
  {
   "cell_type": "code",
   "execution_count": 23,
   "metadata": {},
   "outputs": [
    {
     "data": {
      "text/plain": [
       "{'type': 'Image',\n",
       " 'bands': [{'id': 'B2',\n",
       "   'data_type': {'type': 'PixelType',\n",
       "    'precision': 'float',\n",
       "    'min': 0,\n",
       "    'max': 6.553500175476074},\n",
       "   'crs': 'EPSG:4326',\n",
       "   'crs_transform': [1, 0, 0, 0, 1, 0]}]}"
      ]
     },
     "execution_count": 23,
     "metadata": {},
     "output_type": "execute_result"
    }
   ],
   "source": [
    "S2.select('B2').getInfo()"
   ]
  },
  {
   "cell_type": "code",
   "execution_count": 24,
   "metadata": {},
   "outputs": [],
   "source": [
    "blue=S2.select('B2')\n",
    "nir = S2.select('B8')\n",
    "red = S2.select('B4')"
   ]
  },
  {
   "cell_type": "code",
   "execution_count": 25,
   "metadata": {},
   "outputs": [],
   "source": [
    "# EVI = 2.5 * (B08 - B04) / ((B08 + 6.0 * B04 - 7.5 * B02) + 1.0);\n",
    "numerator = nir.subtract(red).multiply(ee.Number(2.5))\n",
    "denominator = nir.add(red.multiply(ee.Number(6))).subtract(blue.multiply(ee.Number(7.5))).add(ee.Number(1))\n",
    "evi=numerator.divide(denominator).rename('EVI')"
   ]
  },
  {
   "cell_type": "code",
   "execution_count": 26,
   "metadata": {},
   "outputs": [
    {
     "data": {
      "application/vnd.jupyter.widget-view+json": {
       "model_id": "1eb38acea8a24de58834022f389fb29d",
       "version_major": 2,
       "version_minor": 0
      },
      "text/plain": [
       "Map(center=[42.3601, -71.0589], controls=(WidgetControl(options=['position'], widget=HBox(children=(ToggleButt…"
      ]
     },
     "metadata": {},
     "output_type": "display_data"
    }
   ],
   "source": [
    "Map.addLayer(evi,{'min': 0, 'max': 2, 'palette': ['#006a4e', '#b8d5cd','#bbbbbb']},'evi')\n",
    "Map"
   ]
  },
  {
   "cell_type": "markdown",
   "metadata": {},
   "source": [
    "## Training Labels"
   ]
  },
  {
   "cell_type": "code",
   "execution_count": 27,
   "metadata": {},
   "outputs": [],
   "source": [
    "trees = ee.Geometry.MultiPolygon(\n",
    "       [[[[-71.03082067294578, 42.37169954575853],\n",
    "           [-71.03082067294578, 42.371566779445146],\n",
    "           [-71.03056049867133, 42.371566779445146],\n",
    "           [-71.03056049867133, 42.37169954575853]]],\n",
    "         [[[-71.00674394273165, 42.391940147878366],\n",
    "           [-71.00674394273165, 42.391757900584295],\n",
    "           [-71.0062128653467, 42.391757900584295],\n",
    "           [-71.0062128653467, 42.391940147878366]]],\n",
    "         [[[-71.00661519669893, 42.393269348550945],\n",
    "           [-71.00661519669893, 42.39306333419471],\n",
    "           [-71.00632015370729, 42.39306333419471],\n",
    "           [-71.00632015370729, 42.393269348550945]]],\n",
    "         [[[-71.0095292387111, 42.39366249589521],\n",
    "           [-71.0095292387111, 42.39351789064098],\n",
    "           [-71.0091349539859, 42.39351789064098],\n",
    "           [-71.0091349539859, 42.39366249589521]]],\n",
    "         [[[-71.01205677060791, 42.391470334379754],\n",
    "           [-71.01205677060791, 42.391038483439615],\n",
    "           [-71.01132720975586, 42.391038483439615],\n",
    "           [-71.01132720975586, 42.391470334379754]]],\n",
    "         [[[-71.03445717994482, 42.3823753219603],\n",
    "           [-71.03445717994482, 42.38225644697826],\n",
    "           [-71.03417823020727, 42.38225644697826],\n",
    "           [-71.03417823020727, 42.3823753219603]]]], 'EPSG:4326', False)\n",
    "grass = ee.Geometry.MultiPolygon(\n",
    "    [[[[-71.02154638671959, 42.37672460434733],\n",
    "           [-71.02154638671959, 42.37607469321432],\n",
    "           [-71.02024819755638, 42.37607469321432],\n",
    "           [-71.02024819755638, 42.37672460434733]]],\n",
    "         [[[-71.02622415924156, 42.38737584776482],\n",
    "           [-71.02622415924156, 42.38695585527513],\n",
    "           [-71.02571990394677, 42.38695585527513],\n",
    "           [-71.02571990394677, 42.38737584776482]]],\n",
    "         [[[-70.99804449763825, 42.39521773822059],\n",
    "           [-70.99804449763825, 42.39452047777895],\n",
    "           [-70.99699307170441, 42.39452047777895],\n",
    "           [-70.99699307170441, 42.39521773822059]]],\n",
    "         [[[-70.99169302669098, 42.39440954926715],\n",
    "           [-70.99169302669098, 42.394045068490804],\n",
    "           [-70.9913711616092, 42.394045068490804],\n",
    "           [-70.9913711616092, 42.39440954926715]]],\n",
    "         [[[-70.99276285067846, 42.395265323845464],\n",
    "           [-70.99276285067846, 42.39519401352819],\n",
    "           [-70.99267165557195, 42.39519401352819],\n",
    "           [-70.99267165557195, 42.395265323845464]]],\n",
    "         [[[-71.01992787414622, 42.39886513907054],\n",
    "           [-71.01992787414622, 42.3986195283929],\n",
    "           [-71.01948799186778, 42.3986195283929],\n",
    "           [-71.01948799186778, 42.39886513907054]]]],'EPSG:4326',False)\n",
    "nongreens = ee.Geometry.MultiPolygon(\n",
    "        [[[[-71.0266065745933, 42.3907515551849],\n",
    "           [-71.0266065745933, 42.39056930443964],\n",
    "           [-71.02617742115092, 42.39056930443964],\n",
    "           [-71.02617742115092, 42.3907515551849]]],\n",
    "         [[[-71.02804960304331, 42.39459850721831],\n",
    "           [-71.02804960304331, 42.39397255168308],\n",
    "           [-71.02607549720835, 42.39397255168308],\n",
    "           [-71.02607549720835, 42.39459850721831]]],\n",
    "         [[[-71.04311759817736, 42.39690080636235],\n",
    "           [-71.04311759817736, 42.39520522773044],\n",
    "           [-71.04172284948962, 42.39520522773044],\n",
    "           [-71.04172284948962, 42.39690080636235]]],\n",
    "         [[[-71.04648645270007, 42.395332001549185],\n",
    "           [-71.04648645270007, 42.39434949775564],\n",
    "           [-71.04498441565173, 42.39434949775564],\n",
    "           [-71.04498441565173, 42.395332001549185]]],\n",
    "         [[[-71.06264407980578, 42.38877112014429],\n",
    "           [-71.06264407980578, 42.38693268254578],\n",
    "           [-71.05474765646593, 42.38693268254578],\n",
    "           [-71.05474765646593, 42.38877112014429]]],\n",
    "         [[[-71.09251315939562, 42.4014485340243],\n",
    "           [-71.09251315939562, 42.39954708520123],\n",
    "           [-71.09096820700304, 42.39954708520123],\n",
    "           [-71.09096820700304, 42.4014485340243]]]],'EPSG:4326', False);"
   ]
  },
  {
   "cell_type": "markdown",
   "metadata": {},
   "source": [
    "## Classification"
   ]
  },
  {
   "cell_type": "code",
   "execution_count": 28,
   "metadata": {},
   "outputs": [],
   "source": [
    "#Convert geometry to Feature Collection (class must be numeric)\n",
    "classes = ee.FeatureCollection([\n",
    "  ee.Feature(trees, {'class': 0}),  \n",
    "  ee.Feature(grass, {'class': 1}),\n",
    "  ee.Feature(nongreens,{'class':2})\n",
    "])\n",
    "\n",
    "\n",
    "#bands for training\n",
    "bands=S2.bandNames()"
   ]
  },
  {
   "cell_type": "code",
   "execution_count": 29,
   "metadata": {},
   "outputs": [],
   "source": [
    "# Hyperparameters tuning\n",
    "sample=S2.sampleRegions(classes, ['class'], 10)\n",
    "sample=sample.randomColumn()\n",
    "train=sample.filter(ee.Filter.lt('random',0.3))\n",
    "test=sample.filter(ee.Filter.gte('random',0.5))"
   ]
  },
  {
   "cell_type": "code",
   "execution_count": 30,
   "metadata": {},
   "outputs": [],
   "source": [
    "numTrees=range(10,30,1)\n",
    "accuracies=[]\n",
    "for i in numTrees:\n",
    "    classifier=ee.Classifier.smileRandomForest(i).train(train,'class',bands)\n",
    "    accuracy=test.classify(classifier).errorMatrix('class','classification').accuracy()\n",
    "    accuracies.append(accuracy.getInfo())\n",
    "    "
   ]
  },
  {
   "cell_type": "code",
   "execution_count": 31,
   "metadata": {},
   "outputs": [
    {
     "data": {
      "text/plain": [
       "[<matplotlib.lines.Line2D at 0x2082a3207c8>]"
      ]
     },
     "execution_count": 31,
     "metadata": {},
     "output_type": "execute_result"
    },
    {
     "data": {
      "image/png": "[encoded data removed]",
      "text/plain": [
       "<Figure size 432x288 with 1 Axes>"
      ]
     },
     "metadata": {
      "needs_background": "light"
     },
     "output_type": "display_data"
    }
   ],
   "source": [
    "plt.plot(numTrees, accuracies)"
   ]
  },
  {
   "cell_type": "code",
   "execution_count": null,
   "metadata": {},
   "outputs": [],
   "source": [
    "#geemap.ee_export_image_to_drive(classified, description='bostonTrees', folder='export', region=Boston, scale=1)"
   ]
  },
  {
   "cell_type": "markdown",
   "metadata": {},
   "source": [
    "## LS8 EVI"
   ]
  },
  {
   "cell_type": "code",
   "execution_count": 33,
   "metadata": {},
   "outputs": [],
   "source": [
    "LS = ee.ImageCollection('LANDSAT/LC08/C01/T1_8DAY_EVI') \\\n",
    "    .filterDate('2017-01-01', '2017-12-31') \\\n",
    "    .filterBounds(Boston)"
   ]
  },
  {
   "cell_type": "markdown",
   "metadata": {},
   "source": [
    "## NAIP"
   ]
  },
  {
   "cell_type": "code",
   "execution_count": 34,
   "metadata": {},
   "outputs": [],
   "source": [
    "naip = ee.ImageCollection('USDA/NAIP/DOQQ') \\\n",
    "        .filter(ee.Filter.date('2018-01-01', '2018-12-31')) \\\n",
    "        .filterBounds(Boston) \\\n",
    "        .min() \\\n",
    "        .select(['R','G','B','N'])\n",
    "\n",
    "    "
   ]
  },
  {
   "cell_type": "code",
   "execution_count": 35,
   "metadata": {},
   "outputs": [],
   "source": [
    "nir = naip.select('N');\n",
    "red = naip.select('R');\n",
    "naip_ndvi = nir.subtract(red).divide(nir.add(red)).rename('NDVI');\n"
   ]
  },
  {
   "cell_type": "code",
   "execution_count": 36,
   "metadata": {},
   "outputs": [],
   "source": [
    "\n",
    "\n",
    "training = naip.sampleRegions(classes, ['class'], 10)\n",
    "\n",
    "\n",
    "# Train a CART classifier with default parameters.\n",
    "#bands=['B2','B3','B4','B8','NDVI','B11','B12']\n",
    "bands=naip.bandNames()\n",
    "trained = ee.Classifier.smileRandomForest(15).train(training, 'class', bands)\n",
    "\n",
    "\n",
    "\n"
   ]
  },
  {
   "cell_type": "code",
   "execution_count": 37,
   "metadata": {},
   "outputs": [],
   "source": [
    "# Classify the image with the same bands used for training.\n",
    "classified = naip.select(bands).classify(trained)\n"
   ]
  },
  {
   "cell_type": "code",
   "execution_count": 38,
   "metadata": {},
   "outputs": [
    {
     "data": {
      "application/vnd.jupyter.widget-view+json": {
       "model_id": "1eb38acea8a24de58834022f389fb29d",
       "version_major": 2,
       "version_minor": 0
      },
      "text/plain": [
       "Map(center=[42.3601, -71.0589], controls=(WidgetControl(options=['position'], widget=HBox(children=(ToggleButt…"
      ]
     },
     "metadata": {},
     "output_type": "display_data"
    }
   ],
   "source": [
    "# Display classified region\n",
    "Map.setCenter(-71.0589, 42.3601,zoom=12)\n",
    "Map.addLayer(classified, {'min': 0, 'max': 2, 'palette': ['#006a4e', '#b8d5cd','#bbbbbb']}, \"classification\")\n",
    "#Map.addLayer(imageCollection, vis_params, 'LA Sentinel-2',opacity=0.5)\n",
    "Map"
   ]
  },
  {
   "cell_type": "code",
   "execution_count": 40,
   "metadata": {},
   "outputs": [],
   "source": [
    "vector=classified.reduceToVectors()"
   ]
  },
  {
   "cell_type": "code",
   "execution_count": 41,
   "metadata": {},
   "outputs": [
    {
     "data": {
      "text/plain": [
       "{'type': 'Image',\n",
       " 'bands': [{'id': 'classification',\n",
       "   'data_type': {'type': 'PixelType',\n",
       "    'precision': 'int',\n",
       "    'min': -2147483648,\n",
       "    'max': 2147483647},\n",
       "   'crs': 'EPSG:4326',\n",
       "   'crs_transform': [1, 0, 0, 0, 1, 0]}]}"
      ]
     },
     "execution_count": 41,
     "metadata": {},
     "output_type": "execute_result"
    }
   ],
   "source": [
    "classified.getInfo()"
   ]
  },
  {
   "cell_type": "code",
   "execution_count": 42,
   "metadata": {},
   "outputs": [
    {
     "data": {
      "text/plain": [
       "{'type': 'Image',\n",
       " 'bands': [{'id': 'NDVI',\n",
       "   'data_type': {'type': 'PixelType', 'precision': 'float'},\n",
       "   'crs': 'EPSG:4326',\n",
       "   'crs_transform': [1, 0, 0, 0, 1, 0]}]}"
      ]
     },
     "execution_count": 42,
     "metadata": {},
     "output_type": "execute_result"
    }
   ],
   "source": [
    "naip_ndvi.getInfo()"
   ]
  },
  {
   "cell_type": "code",
   "execution_count": 43,
   "metadata": {},
   "outputs": [],
   "source": [
    "naip=naip.addBands(naip_ndvi)"
   ]
  },
  {
   "cell_type": "code",
   "execution_count": 44,
   "metadata": {},
   "outputs": [],
   "source": [
    "naipVis = {\n",
    "  min: 0.0,\n",
    "  max: 255.0,\n",
    "}"
   ]
  },
  {
   "cell_type": "code",
   "execution_count": 45,
   "metadata": {},
   "outputs": [],
   "source": [
    "ndvi_vis={\n",
    "    'min':0,\n",
    "    'max':1,\n",
    "    #'bands':['NDVI'],\n",
    "    'palette': ['grey','white', 'green']\n",
    "}\n"
   ]
  },
  {
   "cell_type": "code",
   "execution_count": null,
   "metadata": {
    "scrolled": true
   },
   "outputs": [],
   "source": [
    "#Map.addLayer(naip, naipVis, 'naip')\n",
    "Map.addLayer(naip_ndvi,ndvi_vis,'naip ndvi')\n",
    "Map"
   ]
  },
  {
   "cell_type": "code",
   "execution_count": null,
   "metadata": {},
   "outputs": [],
   "source": []
  },
  {
   "cell_type": "code",
   "execution_count": null,
   "metadata": {},
   "outputs": [],
   "source": []
  },
  {
   "cell_type": "markdown",
   "metadata": {},
   "source": [
    "## Training Labels"
   ]
  },
  {
   "cell_type": "code",
   "execution_count": null,
   "metadata": {},
   "outputs": [],
   "source": [
    "trees = ee.Geometry.MultiPolygon(\n",
    "       [[[[-71.03082067294578, 42.37169954575853],\n",
    "           [-71.03082067294578, 42.371566779445146],\n",
    "           [-71.03056049867133, 42.371566779445146],\n",
    "           [-71.03056049867133, 42.37169954575853]]],\n",
    "         [[[-71.00674394273165, 42.391940147878366],\n",
    "           [-71.00674394273165, 42.391757900584295],\n",
    "           [-71.0062128653467, 42.391757900584295],\n",
    "           [-71.0062128653467, 42.391940147878366]]],\n",
    "         [[[-71.00661519669893, 42.393269348550945],\n",
    "           [-71.00661519669893, 42.39306333419471],\n",
    "           [-71.00632015370729, 42.39306333419471],\n",
    "           [-71.00632015370729, 42.393269348550945]]],\n",
    "         [[[-71.0095292387111, 42.39366249589521],\n",
    "           [-71.0095292387111, 42.39351789064098],\n",
    "           [-71.0091349539859, 42.39351789064098],\n",
    "           [-71.0091349539859, 42.39366249589521]]],\n",
    "         [[[-71.01205677060791, 42.391470334379754],\n",
    "           [-71.01205677060791, 42.391038483439615],\n",
    "           [-71.01132720975586, 42.391038483439615],\n",
    "           [-71.01132720975586, 42.391470334379754]]],\n",
    "         [[[-71.03445717994482, 42.3823753219603],\n",
    "           [-71.03445717994482, 42.38225644697826],\n",
    "           [-71.03417823020727, 42.38225644697826],\n",
    "           [-71.03417823020727, 42.3823753219603]]]], 'EPSG:4326', False)\n",
    "grass = ee.Geometry.MultiPolygon(\n",
    "    [[[[-71.02154638671959, 42.37672460434733],\n",
    "           [-71.02154638671959, 42.37607469321432],\n",
    "           [-71.02024819755638, 42.37607469321432],\n",
    "           [-71.02024819755638, 42.37672460434733]]],\n",
    "         [[[-71.02622415924156, 42.38737584776482],\n",
    "           [-71.02622415924156, 42.38695585527513],\n",
    "           [-71.02571990394677, 42.38695585527513],\n",
    "           [-71.02571990394677, 42.38737584776482]]],\n",
    "         [[[-70.99804449763825, 42.39521773822059],\n",
    "           [-70.99804449763825, 42.39452047777895],\n",
    "           [-70.99699307170441, 42.39452047777895],\n",
    "           [-70.99699307170441, 42.39521773822059]]],\n",
    "         [[[-70.99169302669098, 42.39440954926715],\n",
    "           [-70.99169302669098, 42.394045068490804],\n",
    "           [-70.9913711616092, 42.394045068490804],\n",
    "           [-70.9913711616092, 42.39440954926715]]],\n",
    "         [[[-70.99276285067846, 42.395265323845464],\n",
    "           [-70.99276285067846, 42.39519401352819],\n",
    "           [-70.99267165557195, 42.39519401352819],\n",
    "           [-70.99267165557195, 42.395265323845464]]],\n",
    "         [[[-71.01992787414622, 42.39886513907054],\n",
    "           [-71.01992787414622, 42.3986195283929],\n",
    "           [-71.01948799186778, 42.3986195283929],\n",
    "           [-71.01948799186778, 42.39886513907054]]]],'EPSG:4326',False)\n",
    "nongreens = ee.Geometry.MultiPolygon(\n",
    "        [[[[-71.0266065745933, 42.3907515551849],\n",
    "           [-71.0266065745933, 42.39056930443964],\n",
    "           [-71.02617742115092, 42.39056930443964],\n",
    "           [-71.02617742115092, 42.3907515551849]]],\n",
    "         [[[-71.02804960304331, 42.39459850721831],\n",
    "           [-71.02804960304331, 42.39397255168308],\n",
    "           [-71.02607549720835, 42.39397255168308],\n",
    "           [-71.02607549720835, 42.39459850721831]]],\n",
    "         [[[-71.04311759817736, 42.39690080636235],\n",
    "           [-71.04311759817736, 42.39520522773044],\n",
    "           [-71.04172284948962, 42.39520522773044],\n",
    "           [-71.04172284948962, 42.39690080636235]]],\n",
    "         [[[-71.04648645270007, 42.395332001549185],\n",
    "           [-71.04648645270007, 42.39434949775564],\n",
    "           [-71.04498441565173, 42.39434949775564],\n",
    "           [-71.04498441565173, 42.395332001549185]]],\n",
    "         [[[-71.06264407980578, 42.38877112014429],\n",
    "           [-71.06264407980578, 42.38693268254578],\n",
    "           [-71.05474765646593, 42.38693268254578],\n",
    "           [-71.05474765646593, 42.38877112014429]]],\n",
    "         [[[-71.09251315939562, 42.4014485340243],\n",
    "           [-71.09251315939562, 42.39954708520123],\n",
    "           [-71.09096820700304, 42.39954708520123],\n",
    "           [-71.09096820700304, 42.4014485340243]]]],'EPSG:4326', False);"
   ]
  },
  {
   "cell_type": "markdown",
   "metadata": {},
   "source": [
    "## Clustering"
   ]
  },
  {
   "cell_type": "markdown",
   "metadata": {},
   "source": [
    "## Classification"
   ]
  },
  {
   "cell_type": "code",
   "execution_count": null,
   "metadata": {},
   "outputs": [],
   "source": [
    "#Convert geometry to Feature Collection (class must be numeric)\n",
    "classes = ee.FeatureCollection([\n",
    "  ee.Feature(trees, {'class': 0}),  \n",
    "  ee.Feature(grass, {'class': 1}),\n",
    "  ee.Feature(nongreens,{'class':2})\n",
    "  \n",
    "])\n",
    "\n",
    "\n",
    "\n"
   ]
  },
  {
   "cell_type": "code",
   "execution_count": null,
   "metadata": {},
   "outputs": [],
   "source": [
    "# Hyperparameters tuning\n",
    "sample=naip.sampleRegions(classes, ['class'], 10)\n",
    "sample=sample.randomColumn()\n",
    "train=sample.filter(ee.Filter.lt('random',0.3))\n",
    "test=sample.filter(ee.Filter.gte('random',0.5))"
   ]
  },
  {
   "cell_type": "code",
   "execution_count": null,
   "metadata": {},
   "outputs": [],
   "source": [
    "numTrees=range(10,30,5)\n",
    "accuracies=[]\n",
    "for i in numTrees:\n",
    "    classifier=ee.Classifier.smileRandomForest(i).train(training,'class',bands)\n",
    "    accuracy=test.classify(classifier).errorMatrix('class','classification').accuracy()\n",
    "    accuracies.append(accuracy.getInfo())\n",
    "    "
   ]
  },
  {
   "cell_type": "code",
   "execution_count": null,
   "metadata": {},
   "outputs": [],
   "source": [
    "plt.plot(numTrees, accuracies)"
   ]
  },
  {
   "cell_type": "code",
   "execution_count": null,
   "metadata": {},
   "outputs": [],
   "source": [
    "training = naip.sampleRegions(classes, ['class'], 10)\n",
    "# Train a CART classifier with default parameters.\n",
    "#bands=['B2','B3','B4','B8','NDVI','B11','B12']\n",
    "bands=naip.bandNames()\n",
    "trained = ee.Classifier.smileRandomForest(15).train(training, 'class', bands)\n",
    "\n",
    "\n",
    "# Classify the image with the same bands used for training.\n",
    "classified = naip.select(bands).classify(trained)\n"
   ]
  },
  {
   "cell_type": "code",
   "execution_count": null,
   "metadata": {},
   "outputs": [],
   "source": [
    "# Display classified region\n",
    "Map.setCenter(-71.0589, 42.3601,zoom=12)\n",
    "Map.addLayer(classified, {'min': 0, 'max': 2, 'palette': ['#006a4e', '#b8d5cd','#bbbbbb']}, \"classification\")\n",
    "#Map.addLayer(imageCollection, vis_params, 'LA Sentinel-2',opacity=0.5)\n",
    "Map"
   ]
  },
  {
   "cell_type": "code",
   "execution_count": null,
   "metadata": {},
   "outputs": [],
   "source": [
    "naip.getInfo()"
   ]
  },
  {
   "cell_type": "code",
   "execution_count": null,
   "metadata": {},
   "outputs": [],
   "source": [
    "vector=classified.reduceToVectors()"
   ]
  },
  {
   "cell_type": "code",
   "execution_count": null,
   "metadata": {},
   "outputs": [],
   "source": [
    "classified.getInfo()"
   ]
  },
  {
   "cell_type": "code",
   "execution_count": null,
   "metadata": {},
   "outputs": [],
   "source": [
    "#geemap.ee_export_image_to_drive(classified, description='bostonTrees', folder='export', region=Boston, scale=1)"
   ]
  }
 ],
 "metadata": {
  "kernelspec": {
   "display_name": "Python 3",
   "language": "python",
   "name": "python3"
  },
  "language_info": {
   "codemirror_mode": {
    "name": "ipython",
    "version": 3
   },
   "file_extension": ".py",
   "mimetype": "text/x-python",
   "name": "python",
   "nbconvert_exporter": "python",
   "pygments_lexer": "ipython3",
   "version": "3.7.6"
  }
 },
 "nbformat": 4,
 "nbformat_minor": 4
}
